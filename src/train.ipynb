{
 "cells": [
  {
   "cell_type": "code",
   "execution_count": null,
   "metadata": {},
   "outputs": [],
   "source": [
    "import os\n",
    "import cv2\n",
    "import numpy as np\n",
    "import pandas as pd"
   ]
  },
  {
   "cell_type": "code",
   "execution_count": null,
   "metadata": {},
   "outputs": [],
   "source": [
    "from sklearn.model_selection import train_test_split"
   ]
  },
  {
   "cell_type": "code",
   "execution_count": null,
   "metadata": {},
   "outputs": [],
   "source": [
    "import tensorflow as tf\n",
    "from tensorflow.keras.models import Sequential\n",
    "from tensorflow.keras.models import save_model, load_model\n",
    "\n",
    "\n",
    "from tensorflow.keras.layers import Conv2D, BatchNormalization, MaxPooling2D, GlobalAveragePooling2D, Dense, Flatten, Dropout\n",
    "from keras.layers import LSTM, GRU, Bidirectional\n",
    "\n",
    "from tensorflow.keras.callbacks import ModelCheckpoint, ReduceLROnPlateau\n",
    "from tensorflow.keras.regularizers import l2\n",
    "from tensorflow.keras.optimizers import Adam\n"
   ]
  },
  {
   "cell_type": "code",
   "execution_count": null,
   "metadata": {},
   "outputs": [],
   "source": [
    "def create_dataset():\n",
    "    X=[]\n",
    "    y=[]\n",
    "\n",
    "    folders = ['backhand', 'forehand', 'service', 'smash']\n",
    "    for folder in folders:\n",
    "        for csv_file_path in os.listdir(f'keypoints/{folder}/'):\n",
    "            data = pd.read_csv(csv_file_path)\n",
    "            \n",
    "            X.append(data.values[1:])\n",
    "            y.append(data['class'].values[0])\n",
    "\n",
    "    X = np.array(X)\n",
    "    y = np.array(y)\n",
    "\n",
    "    return X, y"
   ]
  },
  {
   "cell_type": "code",
   "execution_count": null,
   "metadata": {},
   "outputs": [],
   "source": [
    "# 데이터 좌우 대칭 -> x 값만 변화, y값 변화 없음\n",
    "def revert_datasets(df):\n",
    "    revert_data = df.copy()\n",
    "    \n",
    "    for feature in df.columns:\n",
    "        if feature[-2:] == '_x':\n",
    "            revert_data[feature] = 1 - df[feature]\n",
    "    return revert_data"
   ]
  },
  {
   "cell_type": "code",
   "execution_count": null,
   "metadata": {},
   "outputs": [],
   "source": [
    "def create_revert_dataset():\n",
    "    X=[]\n",
    "    y=[]\n",
    "\n",
    "    folders = ['backhand', 'forehand', 'service', 'smash']\n",
    "    for folder in folders:\n",
    "        for csv_file_path in os.listdir(f'keypoints/{folder}/'):\n",
    "            data = pd.read_csv(csv_file_path)\n",
    "            \n",
    "            revert_data = revert_datasets(data)\n",
    "            X.append(revert_data.values[1:])\n",
    "            y.append(revert_data['class'].values[0])\n",
    "\n",
    "    X = np.array(X)\n",
    "    y = np.array(y)\n",
    "\n",
    "    return X, y"
   ]
  },
  {
   "cell_type": "code",
   "execution_count": null,
   "metadata": {},
   "outputs": [],
   "source": [
    "X, y = create_revert_dataset()"
   ]
  },
  {
   "cell_type": "code",
   "execution_count": null,
   "metadata": {},
   "outputs": [],
   "source": []
  },
  {
   "cell_type": "code",
   "execution_count": null,
   "metadata": {},
   "outputs": [],
   "source": []
  }
 ],
 "metadata": {
  "language_info": {
   "name": "python"
  }
 },
 "nbformat": 4,
 "nbformat_minor": 2
}
